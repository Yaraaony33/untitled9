{
 "cells": [
  {
   "cell_type": "code",
   "execution_count": 24,
   "id": "3490a378",
   "metadata": {},
   "outputs": [],
   "source": [
    "import cobra\n"
   ]
  },
  {
   "cell_type": "code",
   "execution_count": 25,
   "id": "e0215727",
   "metadata": {},
   "outputs": [],
   "source": [
    "from cobra import (Reaction,Metabolite,Model)"
   ]
  },
  {
   "cell_type": "code",
   "execution_count": 26,
   "id": "fdab592d",
   "metadata": {},
   "outputs": [],
   "source": [
    "model=Model('example')\n",
    "\n",
    "\n",
    "###### v1 : glc=====> AA ###################################\n",
    "\n",
    "v1=Reaction('v1')\n",
    "v1.name='V1'\n",
    "v1.lower_bound=0\n",
    "v1.upper_bound=1000\n",
    "\n",
    "###### v2 : AA=====> BioMass ###################################\n",
    "\n",
    "\n",
    "v2=Reaction('v2')\n",
    "v2.name='V2'\n",
    "v2.lower_bound=0\n",
    "v2.upper_bound=1000"
   ]
  },
  {
   "cell_type": "code",
   "execution_count": 27,
   "id": "b51ac347",
   "metadata": {},
   "outputs": [],
   "source": [
    "###### v0 : =====> glc ###################################\n",
    "\n",
    "v0=Reaction('v0')\n",
    "v0.name='V0'\n",
    "v0.lower_bound=1\n",
    "v0.upper_bound=1"
   ]
  },
  {
   "cell_type": "code",
   "execution_count": 28,
   "id": "ee8039aa",
   "metadata": {},
   "outputs": [],
   "source": [
    "###### M : BioMass=====>  ###################################\n",
    "\n",
    "\n",
    "M=Reaction('M')\n",
    "M.name='M'\n",
    "M.lower_bound=0\n",
    "M.upper_bound=1000"
   ]
  },
  {
   "cell_type": "code",
   "execution_count": null,
   "id": "bc8feacf",
   "metadata": {},
   "outputs": [],
   "source": []
  },
  {
   "cell_type": "code",
   "execution_count": 29,
   "id": "c1926a12",
   "metadata": {},
   "outputs": [],
   "source": [
    "###### ATP_R : glc=====> ATP ###################################\n",
    "\n",
    "ATP_R=Reaction('ATP_R')\n",
    "ATP_R.name='ATP_R'\n",
    "ATP_R.lower_bound=0\n",
    "ATP_R.upper_bound=1000"
   ]
  },
  {
   "cell_type": "code",
   "execution_count": 30,
   "id": "25ed8005",
   "metadata": {},
   "outputs": [],
   "source": [
    "###### V3 : ATP=====>  ###################################\n",
    "\n",
    "v3=Reaction('v3')\n",
    "ATP_R.name='v3'\n",
    "ATP_R.lower_bound=0\n",
    "ATP_R.upper_bound=1000\n"
   ]
  },
  {
   "cell_type": "code",
   "execution_count": 31,
   "id": "790ba892",
   "metadata": {},
   "outputs": [],
   "source": [
    "glc= Metabolite(\n",
    "    'glc',compartment='c')\n",
    "AA=Metabolite(\n",
    "    'AA',compartment='c')\n",
    "BioMass= Metabolite(\n",
    "    'BioMass',compartment='c')"
   ]
  },
  {
   "cell_type": "code",
   "execution_count": 32,
   "id": "92cfab7d",
   "metadata": {},
   "outputs": [],
   "source": [
    "ATP= Metabolite(\n",
    "    'ATP',compartment='c')"
   ]
  },
  {
   "cell_type": "code",
   "execution_count": 33,
   "id": "e54a7ccc",
   "metadata": {},
   "outputs": [],
   "source": [
    "###### Add metabolites in reaction V1 ###################################\n",
    "\n",
    "\n",
    "v1.add_metabolites({glc:-1,AA:1})\n",
    "\n",
    "###### Add metabolites in reaction V2 ###################################\n",
    "\n",
    "v2.add_metabolites({AA:-9.09,BioMass:1})"
   ]
  },
  {
   "cell_type": "code",
   "execution_count": 34,
   "id": "919c090a",
   "metadata": {},
   "outputs": [],
   "source": [
    "###### Add metabolites in reaction V0 ###################################\n",
    "\n",
    "v0.add_metabolites({glc:1})"
   ]
  },
  {
   "cell_type": "code",
   "execution_count": 35,
   "id": "d37983be",
   "metadata": {},
   "outputs": [],
   "source": [
    "###### Add metabolites in reaction M ###################################\n",
    "\n",
    "M.add_metabolites({BioMass:-1})"
   ]
  },
  {
   "cell_type": "code",
   "execution_count": 36,
   "id": "56f0624a",
   "metadata": {},
   "outputs": [],
   "source": [
    "###### Add metabolites in reaction ATP_R ###################################\n",
    "\n",
    "ATP_R.add_metabolites({glc:-1,ATP:1})"
   ]
  },
  {
   "cell_type": "code",
   "execution_count": 37,
   "id": "b3abfb72",
   "metadata": {},
   "outputs": [],
   "source": [
    "###### Add metabolites in reaction V3 ###################################\n",
    "\n",
    "v3.add_metabolites({ATP:-1})"
   ]
  },
  {
   "cell_type": "code",
   "execution_count": 38,
   "id": "8ee54853",
   "metadata": {
    "scrolled": true
   },
   "outputs": [],
   "source": [
    "###### Add reactions in model  ###################################\n",
    "\n",
    "model.add_reactions([v0,v1,v2,v3,M,ATP_R])"
   ]
  },
  {
   "cell_type": "code",
   "execution_count": 39,
   "id": "8d7069b6",
   "metadata": {},
   "outputs": [],
   "source": [
    "###### Put M as a objective function  ###################################\n",
    "\n",
    "model.objective = 'M'"
   ]
  },
  {
   "cell_type": "code",
   "execution_count": 40,
   "id": "145899e3",
   "metadata": {},
   "outputs": [
    {
     "data": {
      "text/html": [
       "<strong><em>Optimal</em> solution with objective value 0.110</strong><br><div>\n",
       "<style scoped>\n",
       "    .dataframe tbody tr th:only-of-type {\n",
       "        vertical-align: middle;\n",
       "    }\n",
       "\n",
       "    .dataframe tbody tr th {\n",
       "        vertical-align: top;\n",
       "    }\n",
       "\n",
       "    .dataframe thead th {\n",
       "        text-align: right;\n",
       "    }\n",
       "</style>\n",
       "<table border=\"1\" class=\"dataframe\">\n",
       "  <thead>\n",
       "    <tr style=\"text-align: right;\">\n",
       "      <th></th>\n",
       "      <th>fluxes</th>\n",
       "      <th>reduced_costs</th>\n",
       "    </tr>\n",
       "  </thead>\n",
       "  <tbody>\n",
       "    <tr>\n",
       "      <th>v0</th>\n",
       "      <td>1.000000</td>\n",
       "      <td>0.220022</td>\n",
       "    </tr>\n",
       "    <tr>\n",
       "      <th>v1</th>\n",
       "      <td>1.000000</td>\n",
       "      <td>0.000000</td>\n",
       "    </tr>\n",
       "    <tr>\n",
       "      <th>v2</th>\n",
       "      <td>0.110011</td>\n",
       "      <td>0.000000</td>\n",
       "    </tr>\n",
       "    <tr>\n",
       "      <th>v3</th>\n",
       "      <td>0.000000</td>\n",
       "      <td>-0.220022</td>\n",
       "    </tr>\n",
       "    <tr>\n",
       "      <th>M</th>\n",
       "      <td>0.110011</td>\n",
       "      <td>0.000000</td>\n",
       "    </tr>\n",
       "    <tr>\n",
       "      <th>ATP_R</th>\n",
       "      <td>0.000000</td>\n",
       "      <td>0.000000</td>\n",
       "    </tr>\n",
       "  </tbody>\n",
       "</table>\n",
       "</div>"
      ],
      "text/plain": [
       "<Solution 0.110 at 0x2ba1c6b0310>"
      ]
     },
     "execution_count": 40,
     "metadata": {},
     "output_type": "execute_result"
    }
   ],
   "source": [
    "model.optimize()"
   ]
  },
  {
   "cell_type": "code",
   "execution_count": 41,
   "id": "c6361603",
   "metadata": {},
   "outputs": [
    {
     "data": {
      "text/html": [
       "<h3>Objective</h3><p>1.0 M = 0.11001100110011001</p><h4>Uptake</h4><table border=\"1\" class=\"dataframe\">\n",
       "  <thead>\n",
       "    <tr style=\"text-align: right;\">\n",
       "      <th>Metabolite</th>\n",
       "      <th>Reaction</th>\n",
       "      <th>Flux</th>\n",
       "      <th>C-Number</th>\n",
       "      <th>C-Flux</th>\n",
       "    </tr>\n",
       "  </thead>\n",
       "  <tbody>\n",
       "    <tr>\n",
       "      <td>glc</td>\n",
       "      <td>v0</td>\n",
       "      <td>1</td>\n",
       "      <td>0</td>\n",
       "      <td>0.00%</td>\n",
       "    </tr>\n",
       "  </tbody>\n",
       "</table><h4>Secretion</h4><table border=\"1\" class=\"dataframe\">\n",
       "  <thead>\n",
       "    <tr style=\"text-align: right;\">\n",
       "      <th>Metabolite</th>\n",
       "      <th>Reaction</th>\n",
       "      <th>Flux</th>\n",
       "      <th>C-Number</th>\n",
       "      <th>C-Flux</th>\n",
       "    </tr>\n",
       "  </thead>\n",
       "  <tbody>\n",
       "    <tr>\n",
       "      <td>BioMass</td>\n",
       "      <td>M</td>\n",
       "      <td>-0.11</td>\n",
       "      <td>0</td>\n",
       "      <td>0.00%</td>\n",
       "    </tr>\n",
       "  </tbody>\n",
       "</table>"
      ],
      "text/plain": [
       "<cobra.summary.model_summary.ModelSummary at 0x2ba0f2b3a30>"
      ]
     },
     "execution_count": 41,
     "metadata": {},
     "output_type": "execute_result"
    }
   ],
   "source": [
    "model.summary()"
   ]
  },
  {
   "cell_type": "code",
   "execution_count": 42,
   "id": "186fadef",
   "metadata": {},
   "outputs": [],
   "source": [
    "cobra.io.save_json_model(model , \"test.json\")"
   ]
  },
  {
   "cell_type": "code",
   "execution_count": 43,
   "id": "82069c03",
   "metadata": {},
   "outputs": [],
   "source": [
    "import escher"
   ]
  },
  {
   "cell_type": "code",
   "execution_count": 44,
   "id": "94f394be",
   "metadata": {},
   "outputs": [],
   "source": [
    "from escher import Builder"
   ]
  },
  {
   "cell_type": "code",
   "execution_count": 45,
   "id": "9a239120",
   "metadata": {},
   "outputs": [],
   "source": [
    "builder=Builder()"
   ]
  },
  {
   "cell_type": "code",
   "execution_count": 46,
   "id": "73b1ebfa",
   "metadata": {},
   "outputs": [
    {
     "data": {
      "application/vnd.jupyter.widget-view+json": {
       "model_id": "10a0f6ef807d4845acd539a85f677098",
       "version_major": 2,
       "version_minor": 0
      },
      "text/plain": [
       "Builder()"
      ]
     },
     "metadata": {},
     "output_type": "display_data"
    }
   ],
   "source": [
    "builder"
   ]
  },
  {
   "cell_type": "raw",
   "id": "53caa2d1",
   "metadata": {},
   "source": []
  },
  {
   "cell_type": "raw",
   "id": "69cc624a",
   "metadata": {},
   "source": []
  },
  {
   "cell_type": "code",
   "execution_count": null,
   "id": "f8d9e14c",
   "metadata": {},
   "outputs": [],
   "source": []
  },
  {
   "cell_type": "code",
   "execution_count": null,
   "id": "3b0830b3",
   "metadata": {},
   "outputs": [],
   "source": []
  },
  {
   "cell_type": "code",
   "execution_count": null,
   "id": "85f1c26a",
   "metadata": {},
   "outputs": [],
   "source": []
  },
  {
   "cell_type": "code",
   "execution_count": null,
   "id": "70e4215b",
   "metadata": {},
   "outputs": [],
   "source": []
  }
 ],
 "metadata": {
  "kernelspec": {
   "display_name": "Python 3 (ipykernel)",
   "language": "python",
   "name": "python3"
  },
  "language_info": {
   "codemirror_mode": {
    "name": "ipython",
    "version": 3
   },
   "file_extension": ".py",
   "mimetype": "text/x-python",
   "name": "python",
   "nbconvert_exporter": "python",
   "pygments_lexer": "ipython3",
   "version": "3.9.7"
  }
 },
 "nbformat": 4,
 "nbformat_minor": 5
}
